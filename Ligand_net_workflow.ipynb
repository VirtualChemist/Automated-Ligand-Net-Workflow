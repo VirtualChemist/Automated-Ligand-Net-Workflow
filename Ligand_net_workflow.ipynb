{
 "cells": [
  {
   "cell_type": "markdown",
   "metadata": {},
   "source": [
    "# Automated LigandNet workflow\n",
    "## This workflow provides the user with the tools to generate a regression or classification model, in regards of predicting protein-ligand features."
   ]
  },
  {
   "cell_type": "markdown",
   "metadata": {},
   "source": [
    "## Importing modules"
   ]
  },
  {
   "cell_type": "code",
   "execution_count": 47,
   "metadata": {},
   "outputs": [],
   "source": [
    "import os\n",
    "import pandas as pd\n",
    "import sys"
   ]
  },
  {
   "cell_type": "markdown",
   "metadata": {},
   "source": [
    "## Let's start"
   ]
  },
  {
   "cell_type": "code",
   "execution_count": 48,
   "metadata": {},
   "outputs": [],
   "source": [
    "def start():\n",
    "    print(\"What would you like to do? (please type only the number of your choice)\")\n",
    "    print(\"1. Classification\")\n",
    "    print(\"2. Regression\")\n",
    "    counter=0\n",
    "    answer=0\n",
    "    answer = input()\n",
    "    while (answer!=str(1) and answer!=str(2)) and counter<5:\n",
    "            answer = input(\"Please type ONLY a number between 1 and 2: \")\n",
    "            counter = counter+1\n",
    "            if counter == 5:\n",
    "                print(\"Too many attempts. Exiting program\")\n",
    "                sys.exit(1)\n",
    "    print(\"\\n\")\n",
    "    return answer"
   ]
  },
  {
   "cell_type": "markdown",
   "metadata": {},
   "source": [
    "## Classification"
   ]
  },
  {
   "cell_type": "code",
   "execution_count": 49,
   "metadata": {},
   "outputs": [],
   "source": [
    "def classification_start():\n",
    "    print(\"You have chosen a classification approach. Here, we will try to generate a model (of your choice) that will predict\") \n",
    "    print(\"if a ligand is an active or decoy, based on your input.\")\n",
    "    print('\\n')\n",
    "    print(\"For this, we need you to provide TWO files in a 'sdf' format. One file will contain the ACTIVES for a specific\") \n",
    "    print(\"protein, and the other will have the DECOYS.\")\n",
    "    print(\"\\n\")\n",
    "    print(\"In case you don't have the file for decoys, we recommend using http://dude.docking.org/generate or downloading\") \n",
    "    print(\"DecoyFinder through http://urvnutrigenomica-ctns.github.io/DecoyFinder/#Downloads_\\n\")\n",
    "    print(\"If you don't have your files in a '.sdf' format, please use our code 'sdf_converter' in github: \")\n",
    "    "
   ]
  },
  {
   "cell_type": "markdown",
   "metadata": {},
   "source": [
    "## Main method (where we run everything)"
   ]
  },
  {
   "cell_type": "code",
   "execution_count": 50,
   "metadata": {},
   "outputs": [
    {
     "name": "stdout",
     "output_type": "stream",
     "text": [
      "What would you like to do? (please type only the number of your choice)\n",
      "1. Classification\n",
      "2. Regression\n",
      "1\n",
      "\n",
      "\n",
      "You have chosen a classification approach. Here, we will try to generate a model (of your choice) that will predict\n",
      "if a ligand is an active or decoy, based on your input.\n",
      "\n",
      "\n",
      "For this, we need you to provide TWO files in a 'sdf' format. One file will contain the ACTIVES for a specific\n",
      "protein, and the other will have the DECOYS.\n",
      "\n",
      "\n",
      "In case you don't have the file for decoys, we recommend using http://dude.docking.org/generate or downloading\n",
      "DecoyFinder through http://urvnutrigenomica-ctns.github.io/DecoyFinder/#Downloads_\n"
     ]
    }
   ],
   "source": [
    "def main():\n",
    "    answer = start()\n",
    "    if answer == str(1):\n",
    "        classification_start()\n",
    "    answer_actives_sdf = \n",
    "    \n",
    "main()"
   ]
  },
  {
   "cell_type": "markdown",
   "metadata": {},
   "source": []
  }
 ],
 "metadata": {
  "kernelspec": {
   "display_name": "Python 3",
   "language": "python",
   "name": "python3"
  },
  "language_info": {
   "codemirror_mode": {
    "name": "ipython",
    "version": 3
   },
   "file_extension": ".py",
   "mimetype": "text/x-python",
   "name": "python",
   "nbconvert_exporter": "python",
   "pygments_lexer": "ipython3",
   "version": "3.5.4"
  }
 },
 "nbformat": 4,
 "nbformat_minor": 2
}
